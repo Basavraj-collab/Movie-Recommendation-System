{
 "cells": [
  {
   "cell_type": "markdown",
   "metadata": {},
   "source": [
    "# Reccomendation System"
   ]
  },
  {
   "cell_type": "code",
   "execution_count": 2,
   "metadata": {},
   "outputs": [
    {
     "name": "stdout",
     "output_type": "stream",
     "text": [
      "12 Years a Slave\n",
      "Hacksaw Ridge\n",
      "Queen of Katwe\n",
      "The Wind Rises\n",
      "A Beautiful Mind\n"
     ]
    }
   ],
   "source": [
    "#KNN Algorithm\n",
    "from collections import Counter\n",
    "\n",
    "import math\n",
    "\n",
    "\n",
    "def knn(data, query, k, distance_f, choice_f):\n",
    "    neighbor_distances_and_indexes = []\n",
    "    \n",
    "    for index,example in enumerate(data):\n",
    "        distance = distance_f(example[:-1],query)\n",
    "        \n",
    "        neighbor_distances_and_indexes.append((distance,index))\n",
    "         \n",
    "    sorted_neighbor_distances_and_indexes = sorted(neighbor_distances_and_indexes)\n",
    "    \n",
    "    k_nearest_distances_and_indexes = sorted_neighbor_distances_and_indexes[:k]\n",
    "    \n",
    "    k_nearest_labels = [data[i][1] for distance,i in k_nearest_distances_and_indexes]\n",
    "    \n",
    "    return k_nearest_distances_and_indexes, choice_f(k_nearest_labels)\n",
    "\n",
    "def mean(labels):\n",
    "    return sum(labels) / len(labels)\n",
    "\n",
    "def mode(labels):\n",
    "    return Counter(labels).most_common(1)[0][0]\n",
    "\n",
    "def euclidean_distance(point1,point2):\n",
    "    sum_sq_labels = 0\n",
    "    for i in range(len(point1)):\n",
    "        sum_sq_labels += math.pow(point1[i] - point2[i] ,2)\n",
    "    return math.sqrt(sum_sq_labels)\n",
    "\n",
    "\n",
    "#Code for reccomendation system\n",
    "import numpy as np\n",
    "import urllib\n",
    "\n",
    "def recommend_movies(movie_q, k_recommendations):\n",
    "   movies_data = []\n",
    "   with open('data.csv', 'r') as md:\n",
    "       next(md)\n",
    "       for line in md.readlines():\n",
    "           data_row = line.strip().split(',')\n",
    "           movies_data.append(data_row)\n",
    "\n",
    "    # Prepare the data for use in the knn algorithm by picking\n",
    "    # the relevant columns and converting the numeric columns\n",
    "    # to numbers since they were read in as strings\n",
    "   movies_recommendation_data = []\n",
    "   for row in movies_data:\n",
    "        data_row = list(map(float, row[2:]))\n",
    "        movies_recommendation_data.append(data_row)\n",
    "\n",
    "    # Use the KNN algorithm to get the 5 movies that are most\n",
    "    # similar to The Post.\n",
    "   recommendation_indices, _ = knn(\n",
    "        movies_recommendation_data, movie_q, k=k_recommendations,\n",
    "        distance_f=euclidean_distance, choice_f=lambda x: None)\n",
    "\n",
    "   movie_recommendations = []\n",
    "   for _, index in recommendation_indices:\n",
    "        movie_recommendations.append(movies_data[index])\n",
    "\n",
    "   return movie_recommendations\n",
    "\n",
    "if __name__ == '__main__':\n",
    "    the_post = [7.2, 1, 1, 0, 0, 0, 0, 1, 0] # feature vector for The Post\n",
    "    recommended_movies = recommend_movies(movie_q=the_post, k_recommendations=5)\n",
    "\n",
    "    # Print recommended movie titles\n",
    "    for recommendation in recommended_movies:\n",
    "        print(recommendation[1])\n",
    "           "
   ]
  }
 ],
 "metadata": {
  "kernelspec": {
   "display_name": "Python 3",
   "language": "python",
   "name": "python3"
  },
  "language_info": {
   "codemirror_mode": {
    "name": "ipython",
    "version": 3
   },
   "file_extension": ".py",
   "mimetype": "text/x-python",
   "name": "python",
   "nbconvert_exporter": "python",
   "pygments_lexer": "ipython3",
   "version": "3.7.4"
  }
 },
 "nbformat": 4,
 "nbformat_minor": 2
}
